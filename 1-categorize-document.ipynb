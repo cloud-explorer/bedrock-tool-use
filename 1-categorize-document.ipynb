{
 "cells": [
  {
   "cell_type": "markdown",
   "id": "c6dc7cae-1ab3-44f6-a289-019e6b59484c",
   "metadata": {},
   "source": [
    "## Use FM tooling via Bedrock Converse API to achieve Intelligent Document Proccessing"
   ]
  },
  {
   "cell_type": "markdown",
   "id": "bde253e2-565f-46b1-bee8-f9a2a6a5e61c",
   "metadata": {},
   "source": [
    "Document processing is a common challenge faced by many organizations across various industries. It often involves handling large volumes of diverse documents, extracting relevant information, and making informed decisions based on that data. In this notebook, we'll address this real-world problem with a focus on the mortgage application process as an example. We will utilize Anthroipic's multi-modal models like Claude 3 Haiku and Claude 3 Sonnet via the Bedrock Cpnverse API. We will also demonstarte the use of tooling to create an intelligent agent loop. \n",
    "\n",
    "\n",
    "An agent loop enables Foundational Models (FM) to tackle complex, multi-stage problems. This design pattern involves a series of iterative steps where the LLM engages in multiple interactions, executes various functions, and analyzes their outcomes. This process continues until the desired end result is accomplished, allowing the AI to navigate through intricate problem-solving scenarios."
   ]
  },
  {
   "cell_type": "code",
   "execution_count": 1,
   "id": "9ad8e21d-fbd4-414d-bc15-e4a109e0c4aa",
   "metadata": {
    "scrolled": true
   },
   "outputs": [
    {
     "name": "stdout",
     "output_type": "stream",
     "text": [
      "Requirement already satisfied: requests in /opt/conda/lib/python3.10/site-packages (from -r requirements.txt (line 1)) (2.32.3)\n",
      "Requirement already satisfied: PyMuPDF in /opt/conda/lib/python3.10/site-packages (from -r requirements.txt (line 2)) (1.24.9)\n",
      "Requirement already satisfied: Pillow in /opt/conda/lib/python3.10/site-packages (from -r requirements.txt (line 3)) (10.4.0)\n",
      "Requirement already satisfied: boto3 in /opt/conda/lib/python3.10/site-packages (from -r requirements.txt (line 4)) (1.34.131)\n",
      "Requirement already satisfied: charset-normalizer<4,>=2 in /opt/conda/lib/python3.10/site-packages (from requests->-r requirements.txt (line 1)) (3.3.2)\n",
      "Requirement already satisfied: idna<4,>=2.5 in /opt/conda/lib/python3.10/site-packages (from requests->-r requirements.txt (line 1)) (3.7)\n",
      "Requirement already satisfied: urllib3<3,>=1.21.1 in /opt/conda/lib/python3.10/site-packages (from requests->-r requirements.txt (line 1)) (1.26.19)\n",
      "Requirement already satisfied: certifi>=2017.4.17 in /opt/conda/lib/python3.10/site-packages (from requests->-r requirements.txt (line 1)) (2024.7.4)\n",
      "Requirement already satisfied: PyMuPDFb==1.24.9 in /opt/conda/lib/python3.10/site-packages (from PyMuPDF->-r requirements.txt (line 2)) (1.24.9)\n",
      "Requirement already satisfied: botocore<1.35.0,>=1.34.131 in /opt/conda/lib/python3.10/site-packages (from boto3->-r requirements.txt (line 4)) (1.34.131)\n",
      "Requirement already satisfied: jmespath<2.0.0,>=0.7.1 in /opt/conda/lib/python3.10/site-packages (from boto3->-r requirements.txt (line 4)) (1.0.1)\n",
      "Requirement already satisfied: s3transfer<0.11.0,>=0.10.0 in /opt/conda/lib/python3.10/site-packages (from boto3->-r requirements.txt (line 4)) (0.10.2)\n",
      "Requirement already satisfied: python-dateutil<3.0.0,>=2.1 in /opt/conda/lib/python3.10/site-packages (from botocore<1.35.0,>=1.34.131->boto3->-r requirements.txt (line 4)) (2.9.0)\n",
      "Requirement already satisfied: six>=1.5 in /opt/conda/lib/python3.10/site-packages (from python-dateutil<3.0.0,>=2.1->botocore<1.35.0,>=1.34.131->boto3->-r requirements.txt (line 4)) (1.16.0)\n",
      "Note: you may need to restart the kernel to use updated packages.\n"
     ]
    }
   ],
   "source": [
    "%pip install -r requirements.txt"
   ]
  },
  {
   "cell_type": "code",
   "execution_count": 1,
   "id": "d226b662-099a-441e-9e89-67018d936977",
   "metadata": {},
   "outputs": [],
   "source": [
    "import boto3, json\n",
    "from constants import ModelIDs, Temperature\n",
    "from utils import FileUtility\n",
    "from bedrock_util import BedrockUtils\n",
    "\n",
    "message_list = []\n",
    "\n",
    "sonnet_model_id = ModelIDs.anthropic_claude_3_sonnet\n",
    "haiku_model_id = ModelIDs.anthropic_claude_3_haiku\n",
    "\n",
    "temp_focused = Temperature.FOCUSED\n",
    "temp_balanced = Temperature.BALANCED\n",
    "\n",
    "sonnet_bedrock_utils = BedrockUtils(model_id=sonnet_model_id)\n",
    "haiku_bedrock_utils = BedrockUtils(model_id=haiku_model_id)"
   ]
  },
  {
   "cell_type": "code",
   "execution_count": 2,
   "id": "7fed2722-980c-44c8-8421-1fef56dcf6e9",
   "metadata": {},
   "outputs": [],
   "source": [
    "def limited_print(data, limit=1000):\n",
    "    print(str(data)[:limit] + \"...\" if len(str(data)) > limit else data)"
   ]
  },
  {
   "cell_type": "code",
   "execution_count": 3,
   "id": "7868021f-7f5a-48c6-ac16-3063d66518f4",
   "metadata": {},
   "outputs": [],
   "source": [
    "source_folder = \"forms\"\n",
    "target_folder = \"images/_extracted\"\n",
    "source_bucket = \"bedrock-tool-use-789068066945\"\n",
    "# source_key = \"forms/urls_filled.pdf\"\n",
    "# source_key = \"forms/urla_1.png\"\n",
    "source_key = \"new-jersey-drivers-license.png\""
   ]
  },
  {
   "cell_type": "code",
   "execution_count": 4,
   "id": "c0ab0bb1-4c5e-4527-8af1-54078e8669e6",
   "metadata": {},
   "outputs": [],
   "source": [
    "file_util = FileUtility(download_folder=target_folder)\n",
    "# Download file from S3\n",
    "file_path = file_util.download_from_s3(source_bucket, source_key)\n"
   ]
  },
  {
   "cell_type": "code",
   "execution_count": 5,
   "id": "b428184b-6301-456e-9668-aee173d0928f",
   "metadata": {},
   "outputs": [
    {
     "name": "stdout",
     "output_type": "stream",
     "text": [
      "Image converted to base64 with media type: png\n",
      "Base64 (truncated): b'\\x89PNG\\r\\n\\x1a\\n\\x00\\x00\\x00\\rIHDR\\x00\\x00\\x03\\x1b\\x00\\x00\\x01\\xfe\\x08\\x02\\x00\\x00\\x00{\\xaa\\x84\\x86\\x00\\x00\\x00\\x01sRGB\\x00\\xae\\xce\\x1c\\xe9\\x00\\x00\\x00x'...\n"
     ]
    }
   ],
   "source": [
    "binary_data=\"\"\n",
    "if file_path.endswith('.pdf'):\n",
    "    binary_data = file_util.pdf_to_png_bytes(file_path)\n",
    "    media_type = \"jpeg\"\n",
    "    print(f\"Number of pages converted: {len(binary_data)}\")\n",
    "    print(f\"First page base64 (truncated): {binary_data[0][:50]}...\")\n",
    "elif file_path.endswith(('.jpeg', '.jpg', '.png')):\n",
    "    binary_data, media_type = file_util.image_to_base64(file_path)\n",
    "    print(f\"Image converted to base64 with media type: {media_type}\")\n",
    "    print(f\"Base64 (truncated): {binary_data[0][:50]}...\")\n",
    "else:\n",
    "    print(f\"Unsupported file type: {file_path}\")\n",
    "    binary_data = None\n",
    "    "
   ]
  },
  {
   "cell_type": "code",
   "execution_count": 6,
   "id": "cbef69f0-b61d-43dc-a80e-d6e73fb09e83",
   "metadata": {},
   "outputs": [],
   "source": [
    "\n",
    "def categorize_document(binary_data, media_type):\n",
    "    message_list = [\n",
    "        {\n",
    "            \"role\": 'user',\n",
    "            \"content\": [\n",
    "                {\"image\": {\"format\": media_type, \"source\": {\"bytes\": binary_data[0]}}},\n",
    "                # [{\"image\": {\"format\": media_type, \"source\": {\"bytes\": data}}} for data in binary_data],\n",
    "                {\"text\": \"What type of document is this?\"}\n",
    "            ]\n",
    "        }\n",
    "    ]\n",
    "    system_message = [\n",
    "        {\"text\": \"<task>Categorize the attached images.</task> <output_choices>URLA, W2, PS, DL, or UNK</output_choices> In this case PS means pay stub, DL means driver's license, and UNK means unknown. <important>Include only the answer and nothing else</important>\"}\n",
    "    ]\n",
    "\n",
    "    response = haiku_bedrock_utils.invoke_bedrock(message_list=message_list, system_message=system_message)\n",
    "\n",
    "    response_message = response['output']['message']\n",
    "    return response_message\n",
    "    "
   ]
  },
  {
   "cell_type": "code",
   "execution_count": 7,
   "id": "c4b4ea59-7d26-4c45-b3f8-696bd3dfda5d",
   "metadata": {
    "scrolled": true
   },
   "outputs": [
    {
     "name": "stdout",
     "output_type": "stream",
     "text": [
      "Invoking Bedrock model...\n"
     ]
    }
   ],
   "source": [
    "resp = categorize_document(binary_data, media_type)"
   ]
  },
  {
   "cell_type": "code",
   "execution_count": null,
   "id": "b51b2bec-a0c0-41ec-9eca-2e2df77417ee",
   "metadata": {},
   "outputs": [],
   "source": []
  },
  {
   "cell_type": "code",
   "execution_count": 8,
   "id": "84c47bef-77f4-4882-b744-f5c1addbb58f",
   "metadata": {},
   "outputs": [
    {
     "name": "stdout",
     "output_type": "stream",
     "text": [
      "{'role': 'assistant', 'content': [{'text': 'DL'}]}\n"
     ]
    }
   ],
   "source": [
    "print(resp)"
   ]
  },
  {
   "cell_type": "code",
   "execution_count": null,
   "id": "3f4c2684-439e-442e-8820-b42aee88ab46",
   "metadata": {},
   "outputs": [],
   "source": []
  },
  {
   "cell_type": "code",
   "execution_count": null,
   "id": "8bf06d41-423e-424f-b9c8-dbcf7a80793a",
   "metadata": {},
   "outputs": [],
   "source": []
  }
 ],
 "metadata": {
  "kernelspec": {
   "display_name": "Python 3 (ipykernel)",
   "language": "python",
   "name": "python3"
  },
  "language_info": {
   "codemirror_mode": {
    "name": "ipython",
    "version": 3
   },
   "file_extension": ".py",
   "mimetype": "text/x-python",
   "name": "python",
   "nbconvert_exporter": "python",
   "pygments_lexer": "ipython3",
   "version": "3.10.14"
  }
 },
 "nbformat": 4,
 "nbformat_minor": 5
}
